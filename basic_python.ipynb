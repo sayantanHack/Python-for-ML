{
  "nbformat": 4,
  "nbformat_minor": 0,
  "metadata": {
    "colab": {
      "name": "basic_python.ipynb",
      "version": "0.3.2",
      "provenance": [],
      "collapsed_sections": [],
      "include_colab_link": true
    },
    "kernelspec": {
      "name": "python2",
      "display_name": "Python 2"
    }
  },
  "cells": [
    {
      "cell_type": "markdown",
      "metadata": {
        "id": "view-in-github",
        "colab_type": "text"
      },
      "source": [
        "[View in Colaboratory](https://colab.research.google.com/github/sayantanHack/Python-for-ML/blob/master/basic_python.ipynb)"
      ]
    },
    {
      "metadata": {
        "id": "Rd3vcIhcqn81",
        "colab_type": "code",
        "colab": {}
      },
      "cell_type": "code",
      "source": [
        "print \"Hello World!\" # no parentheses are needed in python2\n",
        "print('Hello world') # this is for python3"
      ],
      "execution_count": 0,
      "outputs": []
    },
    {
      "metadata": {
        "id": "mwdKHkNmq8pE",
        "colab_type": "code",
        "colab": {}
      },
      "cell_type": "code",
      "source": [
        "print('hello',24,True,23.99) # multiple things string , int , boolean , float/double"
      ],
      "execution_count": 0,
      "outputs": []
    },
    {
      "metadata": {
        "id": "Riz_VrBAknzM",
        "colab_type": "code",
        "colab": {}
      },
      "cell_type": "code",
      "source": [
        "# variable declaration is easy \n",
        "x= 5\n",
        "y = 6\n",
        "\n",
        "x+y"
      ],
      "execution_count": 0,
      "outputs": []
    },
    {
      "metadata": {
        "id": "L28-VaNilxNc",
        "colab_type": "code",
        "colab": {}
      },
      "cell_type": "code",
      "source": [
        "# Comments\n",
        "# This is a python tutorial and a single line comment\n",
        "''' This is a multiline comment\n",
        "    pretty awesome!!\n",
        "    Let me introduce you to jennifer!'''"
      ],
      "execution_count": 0,
      "outputs": []
    },
    {
      "metadata": {
        "id": "WCnLJxd6m8pf",
        "colab_type": "code",
        "colab": {}
      },
      "cell_type": "code",
      "source": [
        "\n",
        "# Variables\n",
        "msg = \"Python!\"  # String\n",
        "v2 = 'Python!'   # String works same in single or double quote\n",
        "v1 = 2           # Numbers\n",
        "v3 = 3.564       # Floats / Doubles\n",
        "v4 = True        # Boolean (True / False)(0 or 1)\n",
        "\n",
        "print(msg) \n",
        "print v1\n",
        "print v3\n",
        "print v4"
      ],
      "execution_count": 0,
      "outputs": []
    },
    {
      "metadata": {
        "id": "buoPnLPLLKuK",
        "colab_type": "code",
        "colab": {}
      },
      "cell_type": "code",
      "source": [
        "#lists contain in square bracces \n",
        "names = ['john', 'Ram', 'Mike']\n",
        "print (names)\n"
      ],
      "execution_count": 0,
      "outputs": []
    },
    {
      "metadata": {
        "id": "dFkW3Iz8MLIo",
        "colab_type": "code",
        "colab": {}
      },
      "cell_type": "code",
      "source": [
        "#list can be called by its indexes indexes starts from 0 not 1 \n",
        "lang = ['C','c++','Java','Python']\n",
        "print\"I love\",lang[3] # 3 is for the indexing \n",
        "print names[1],\"loves\",lang[0] "
      ],
      "execution_count": 0,
      "outputs": []
    },
    {
      "metadata": {
        "id": "sNuKIXOIbp2C",
        "colab_type": "code",
        "colab": {}
      },
      "cell_type": "code",
      "source": [
        "# lists index in reverse order \n",
        "print \"I love\",lang[-1] #last on is -1 & before that is -2 & so on"
      ],
      "execution_count": 0,
      "outputs": []
    },
    {
      "metadata": {
        "id": "A71hwED8cSdl",
        "colab_type": "code",
        "colab": {}
      },
      "cell_type": "code",
      "source": [
        "# Length of the list\n",
        "length = ['A', 'B', 'C', 'D', 'E']\n",
        "print len(length)"
      ],
      "execution_count": 0,
      "outputs": []
    },
    {
      "metadata": {
        "id": "B_-A3EV1dHEs",
        "colab_type": "code",
        "colab": {}
      },
      "cell_type": "code",
      "source": [
        "# Index value of a list\n",
        "print length.index(\"B\")\n",
        "#let`s make a loop\n",
        "for i in range(len(length)):\n",
        "  print length[i],\"is in \", length.index(length[i]),\"Index\""
      ],
      "execution_count": 0,
      "outputs": []
    },
    {
      "metadata": {
        "id": "HoXIGQTxhxA8",
        "colab_type": "code",
        "colab": {}
      },
      "cell_type": "code",
      "source": [
        "# Simple while LOOP\n",
        "# Loop runs till the condition is True\n",
        "v1 = 5\n",
        "while v1 <= 10:\n",
        "    print (v1)\n",
        "    v1 += 1"
      ],
      "execution_count": 0,
      "outputs": []
    },
    {
      "metadata": {
        "id": "CwKyl4WWiTAM",
        "colab_type": "code",
        "colab": {}
      },
      "cell_type": "code",
      "source": [
        "# For Loop \n",
        "# here the range function is called for itteration.\n",
        "for i in range(5):\n",
        "  print \"Hello World!!\""
      ],
      "execution_count": 0,
      "outputs": []
    },
    {
      "metadata": {
        "id": "1qxDzHjIiCrj",
        "colab_type": "code",
        "colab": {}
      },
      "cell_type": "code",
      "source": [
        "# Simple Dictionary\n",
        "# Dictionary allows to have key:value pairs\n",
        "d1 = {\"Python\":8, 'A':65, 66:'B', 9.45:\"Decimals\"}\n",
        "\n",
        "print (d1[\"Python\"])\n",
        "print (d1['A'])\n",
        "print (d1[66])\n",
        "print (d1[9.45])"
      ],
      "execution_count": 0,
      "outputs": []
    },
    {
      "metadata": {
        "id": "EUZOVpkPiyZu",
        "colab_type": "code",
        "colab": {}
      },
      "cell_type": "code",
      "source": [
        "# if..else\n",
        "v1 = 5\n",
        "if v1 == 10:\n",
        "    print (v1)\n",
        "else:\n",
        "  if v1 < 10:\n",
        "    print \"Value is less than ten.\"\n",
        "  else:\n",
        "    print \"Value is bigger than ten\""
      ],
      "execution_count": 0,
      "outputs": []
    },
    {
      "metadata": {
        "id": "Mpsg9fjyj0gh",
        "colab_type": "code",
        "colab": {}
      },
      "cell_type": "code",
      "source": [
        "# Simple function\n",
        "# Function definition\n",
        "def Func():\n",
        "    print (\"A Message from the other world!\")\n",
        "\n",
        "# Function Call\n",
        "Func()"
      ],
      "execution_count": 0,
      "outputs": []
    },
    {
      "metadata": {
        "id": "V6t9oiysj-sR",
        "colab_type": "code",
        "colab": {}
      },
      "cell_type": "code",
      "source": [
        "# function may have multiple parameters here x,y are the parameters\n",
        "def add(x,y):\n",
        "  print \"The Sum is:\",(x+y)\n",
        "  return x+y/2           # Function returns the avarage value\n",
        "  \n",
        "add(2,3)"
      ],
      "execution_count": 0,
      "outputs": []
    },
    {
      "metadata": {
        "id": "XgAjw9wek2DH",
        "colab_type": "code",
        "colab": {}
      },
      "cell_type": "code",
      "source": [
        "# for doing things with string you have to import the string library\n",
        "import string\n",
        "\n",
        "# Case change of string variables\n",
        "txt   = \"jennifEr loves Python\"\n",
        "\n",
        "# Title case\n",
        "line  = txt.title() \n",
        "print (line)\n",
        "\n",
        "# Upper case\n",
        "line  = txt.upper() \n",
        "print (line)\n",
        "\n",
        "# Lower case\n",
        "line  = txt.lower() \n",
        "print (line)"
      ],
      "execution_count": 0,
      "outputs": []
    },
    {
      "metadata": {
        "id": "COZvtk4UleTY",
        "colab_type": "code",
        "colab": {}
      },
      "cell_type": "code",
      "source": [
        "# NUMPY is a library what supports multidimensional array \n",
        "# import numpy\n",
        "import numpy as np\n",
        "# numpy.arange([start, ]stop, [step, ]dtype=None)\n",
        "\n",
        "print (np.arange(3))           # start=0 | stop=3  | step=1\n",
        "print (np.arange(5, 25))       # start=5 | stop=25 | step=1\n",
        "print (np.arange(10, 100, 10)) # start=5 | stop=100 | step=10\n"
      ],
      "execution_count": 0,
      "outputs": []
    },
    {
      "metadata": {
        "id": "yh5TXOiIps6U",
        "colab_type": "code",
        "colab": {}
      },
      "cell_type": "code",
      "source": [
        "# lets create a numpy array \n",
        "x = [23,4.5, 64, 56] # creating a list of numbers \n",
        "ary = np.array(x)      # Pass thos e numbers in numpy array\n",
        "print ary \n",
        "# multiplication of the array can be possible \n",
        "print ary*2"
      ],
      "execution_count": 0,
      "outputs": []
    },
    {
      "metadata": {
        "id": "Fe4El7GeqaYg",
        "colab_type": "code",
        "colab": {}
      },
      "cell_type": "code",
      "source": [
        "# The abobe one was single dimensional array Let`s create multi dimensional array\n",
        "multi = np.array([[2,53],[22,4]])     #We are creating a list of two lists, each list is defigning each row \n",
        "print multi\n",
        "print multi.ndim,\"is the dimmension of the array\" "
      ],
      "execution_count": 0,
      "outputs": []
    },
    {
      "metadata": {
        "id": "wAHR_iPosZ2P",
        "colab_type": "code",
        "colab": {}
      },
      "cell_type": "code",
      "source": [
        "# getting the eliments of the array\n",
        "print multi[0] # 1st row of the array\n",
        "print multi[1] # 2ns row of the array\n",
        "print \"1st element of the array \",multi[0][0]\n",
        "print \"last element of the array \",multi[-1][-1] #using negetive indexing \n",
        "\n"
      ],
      "execution_count": 0,
      "outputs": []
    },
    {
      "metadata": {
        "id": "1Yb_i-UttWYp",
        "colab_type": "code",
        "colab": {}
      },
      "cell_type": "code",
      "source": [
        "# Creating a random matrix \n",
        "r = np.random.randn(5,4)  # the mtrix is 5 by 4 matrix (row, column)\n",
        "print r"
      ],
      "execution_count": 0,
      "outputs": []
    },
    {
      "metadata": {
        "id": "rp41ZtNtoroA",
        "colab_type": "code",
        "colab": {}
      },
      "cell_type": "code",
      "source": [
        "# Matplotlib is a great Library for ploting your data in a beutiful graph\n",
        "import matplotlib.pyplot as plt\n",
        "k = [1.2,3.4,6.3,7,10]\n",
        "plt.plot(k)  # Its ploting the list with plot() function \n",
        "plt.show() # without the show function you cannot see anything. "
      ],
      "execution_count": 0,
      "outputs": []
    },
    {
      "metadata": {
        "id": "pt9TAm-ZviKc",
        "colab_type": "code",
        "colab": {}
      },
      "cell_type": "code",
      "source": [
        "# We can also plot points instead of a straigth line \n",
        "plt.plot(k,\"ro\")  # we can specify the shape & size also the 1st one r-Red,g-Gren,b-Blue . The 2nd letter defines the shape we can use ^ or - \n",
        "plt.show()"
      ],
      "execution_count": 0,
      "outputs": []
    },
    {
      "metadata": {
        "id": "kNfJv8kWkwqD",
        "colab_type": "code",
        "colab": {}
      },
      "cell_type": "code",
      "source": [
        "import tensorflow as tf\n",
        "version = (tf.__version__)\n",
        "print \"Its in float => \" + version\n",
        "print \"The version is in string : \"+ str(version)"
      ],
      "execution_count": 0,
      "outputs": []
    },
    {
      "metadata": {
        "id": "PHnckUo4lghl",
        "colab_type": "code",
        "colab": {}
      },
      "cell_type": "code",
      "source": [
        ""
      ],
      "execution_count": 0,
      "outputs": []
    }
  ]
}