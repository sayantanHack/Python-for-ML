{
 "cells": [
  {
   "cell_type": "markdown",
   "metadata": {
    "colab_type": "text",
    "id": "view-in-github"
   },
   "source": [
    "[View in Colaboratory](https://colab.research.google.com/github/sayantanHack/Python-for-ML/blob/master/basic_python.ipynb)"
   ]
  },
  {
   "cell_type": "code",
   "execution_count": 0,
   "metadata": {
    "colab": {},
    "colab_type": "code",
    "id": "Rd3vcIhcqn81"
   },
   "outputs": [],
   "source": [
    "print \"Hello World!\" # no parentheses are needed in python2\n",
    "print('Hello world') # this is for python3"
   ]
  },
  {
   "cell_type": "code",
   "execution_count": 0,
   "metadata": {
    "colab": {},
    "colab_type": "code",
    "id": "mwdKHkNmq8pE"
   },
   "outputs": [],
   "source": [
    "print('hello',24,True,23.99) # multiple things string , int , boolean , float/double"
   ]
  },
  {
   "cell_type": "code",
   "execution_count": 0,
   "metadata": {
    "colab": {},
    "colab_type": "code",
    "id": "Riz_VrBAknzM"
   },
   "outputs": [],
   "source": [
    "# variable declaration is easy \n",
    "x= 5\n",
    "y = 6\n",
    "\n",
    "x+y"
   ]
  },
  {
   "cell_type": "code",
   "execution_count": 0,
   "metadata": {
    "colab": {},
    "colab_type": "code",
    "id": "L28-VaNilxNc"
   },
   "outputs": [],
   "source": [
    "# Comments\n",
    "# This is a python tutorial and a single line comment\n",
    "''' This is a multiline comment\n",
    "    pretty awesome!!\n",
    "    Let me introduce you to jennifer!'''"
   ]
  },
  {
   "cell_type": "code",
   "execution_count": 0,
   "metadata": {
    "colab": {},
    "colab_type": "code",
    "id": "WCnLJxd6m8pf"
   },
   "outputs": [],
   "source": [
    "\n",
    "# Variables\n",
    "msg = \"Python!\"  # String\n",
    "v2 = 'Python!'   # String works same in single or double quote\n",
    "v1 = 2           # Numbers\n",
    "v3 = 3.564       # Floats / Doubles\n",
    "v4 = True        # Boolean (True / False)(0 or 1)\n",
    "\n",
    "print(msg) \n",
    "print v1\n",
    "print v3\n",
    "print v4"
   ]
  },
  {
   "cell_type": "code",
   "execution_count": 0,
   "metadata": {
    "colab": {},
    "colab_type": "code",
    "id": "buoPnLPLLKuK"
   },
   "outputs": [],
   "source": [
    "#lists contain in square bracces \n",
    "names = ['john', 'Ram', 'Mike']\n",
    "print (names)\n"
   ]
  },
  {
   "cell_type": "code",
   "execution_count": 0,
   "metadata": {
    "colab": {},
    "colab_type": "code",
    "id": "dFkW3Iz8MLIo"
   },
   "outputs": [],
   "source": [
    "#list can be called by its indexes indexes starts from 0 not 1 \n",
    "lang = ['C','c++','Java','Python']\n",
    "print\"I love\",lang[3] # 3 is for the indexing \n",
    "print names[1],\"loves\",lang[0] "
   ]
  },
  {
   "cell_type": "code",
   "execution_count": 0,
   "metadata": {
    "colab": {},
    "colab_type": "code",
    "id": "sNuKIXOIbp2C"
   },
   "outputs": [],
   "source": [
    "# lists index in reverse order \n",
    "print \"I love\",lang[-1] #last on is -1 & before that is -2 & so on"
   ]
  },
  {
   "cell_type": "code",
   "execution_count": 0,
   "metadata": {
    "colab": {},
    "colab_type": "code",
    "id": "A71hwED8cSdl"
   },
   "outputs": [],
   "source": [
    "# Length of the list\n",
    "length = ['A', 'B', 'C', 'D', 'E']\n",
    "print len(length)"
   ]
  },
  {
   "cell_type": "code",
   "execution_count": 0,
   "metadata": {
    "colab": {},
    "colab_type": "code",
    "id": "B_-A3EV1dHEs"
   },
   "outputs": [],
   "source": [
    "# Index value of a list\n",
    "print length.index(\"B\")\n",
    "#let`s make a loop\n",
    "for i in range(len(length)):\n",
    "  print length[i],\"is in \", length.index(length[i]),\"Index\""
   ]
  },
  {
   "cell_type": "code",
   "execution_count": 0,
   "metadata": {
    "colab": {},
    "colab_type": "code",
    "id": "HoXIGQTxhxA8"
   },
   "outputs": [],
   "source": [
    "# Simple while LOOP\n",
    "# Loop runs till the condition is True\n",
    "v1 = 5\n",
    "while v1 <= 10:\n",
    "    print (v1)\n",
    "    v1 += 1"
   ]
  },
  {
   "cell_type": "code",
   "execution_count": 0,
   "metadata": {
    "colab": {},
    "colab_type": "code",
    "id": "CwKyl4WWiTAM"
   },
   "outputs": [],
   "source": [
    "# For Loop \n",
    "# here the range function is called for itteration.\n",
    "for i in range(5):\n",
    "  print \"Hello World!!\""
   ]
  },
  {
   "cell_type": "code",
   "execution_count": 0,
   "metadata": {
    "colab": {},
    "colab_type": "code",
    "id": "1qxDzHjIiCrj"
   },
   "outputs": [],
   "source": [
    "# Simple Dictionary\n",
    "# Dictionary allows to have key:value pairs\n",
    "d1 = {\"Python\":8, 'A':65, 66:'B', 9.45:\"Decimals\"}\n",
    "\n",
    "print (d1[\"Python\"])\n",
    "print (d1['A'])\n",
    "print (d1[66])\n",
    "print (d1[9.45])"
   ]
  },
  {
   "cell_type": "code",
   "execution_count": 0,
   "metadata": {
    "colab": {},
    "colab_type": "code",
    "id": "EUZOVpkPiyZu"
   },
   "outputs": [],
   "source": [
    "# if..else\n",
    "v1 = 5\n",
    "if v1 == 10:\n",
    "    print (v1)\n",
    "else:\n",
    "  if v1 < 10:\n",
    "    print \"Value is less than ten.\"\n",
    "  else:\n",
    "    print \"Value is bigger than ten\""
   ]
  },
  {
   "cell_type": "code",
   "execution_count": 0,
   "metadata": {
    "colab": {},
    "colab_type": "code",
    "id": "Mpsg9fjyj0gh"
   },
   "outputs": [],
   "source": [
    "# Simple function\n",
    "# Function definition\n",
    "def Func():\n",
    "    print (\"A Message from the other world!\")\n",
    "\n",
    "# Function Call\n",
    "Func()"
   ]
  },
  {
   "cell_type": "code",
   "execution_count": 0,
   "metadata": {
    "colab": {},
    "colab_type": "code",
    "id": "V6t9oiysj-sR"
   },
   "outputs": [],
   "source": [
    "# function may have multiple parameters here x,y are the parameters\n",
    "def add(x,y):\n",
    "  print \"The Sum is:\",(x+y)\n",
    "  return x+y/2           # Function returns the avarage value\n",
    "  \n",
    "add(2,3)"
   ]
  },
  {
   "cell_type": "code",
   "execution_count": 0,
   "metadata": {
    "colab": {},
    "colab_type": "code",
    "id": "XgAjw9wek2DH"
   },
   "outputs": [],
   "source": [
    "# for doing things with string you have to import the string library\n",
    "import string\n",
    "\n",
    "# Case change of string variables\n",
    "txt   = \"jennifEr loves Python\"\n",
    "\n",
    "# Title case\n",
    "line  = txt.title() \n",
    "print (line)\n",
    "\n",
    "# Upper case\n",
    "line  = txt.upper() \n",
    "print (line)\n",
    "\n",
    "# Lower case\n",
    "line  = txt.lower() \n",
    "print (line)"
   ]
  },
  {
   "cell_type": "code",
   "execution_count": 0,
   "metadata": {
    "colab": {},
    "colab_type": "code",
    "id": "COZvtk4UleTY"
   },
   "outputs": [],
   "source": [
    "# NUMPY is a library what supports multidimensional array \n",
    "# import numpy\n",
    "import numpy as np\n",
    "# numpy.arange([start, ]stop, [step, ]dtype=None)\n",
    "\n",
    "print (np.arange(3))           # start=0 | stop=3  | step=1\n",
    "print (np.arange(5, 25))       # start=5 | stop=25 | step=1\n",
    "print (np.arange(10, 100, 10)) # start=5 | stop=100 | step=10\n"
   ]
  },
  {
   "cell_type": "code",
   "execution_count": 0,
   "metadata": {
    "colab": {},
    "colab_type": "code",
    "id": "yh5TXOiIps6U"
   },
   "outputs": [],
   "source": [
    "# lets create a numpy array \n",
    "x = [23,4.5, 64, 56] # creating a list of numbers \n",
    "ary = np.array(x)      # Pass thos e numbers in numpy array\n",
    "print ary \n",
    "# multiplication of the array can be possible \n",
    "print ary*2"
   ]
  },
  {
   "cell_type": "code",
   "execution_count": 0,
   "metadata": {
    "colab": {},
    "colab_type": "code",
    "id": "Fe4El7GeqaYg"
   },
   "outputs": [],
   "source": [
    "# The abobe one was single dimensional array Let`s create multi dimensional array\n",
    "multi = np.array([[2,53],[22,4]])     #We are creating a list of two lists, each list is defigning each row \n",
    "print multi\n",
    "print multi.ndim,\"is the dimmension of the array\" "
   ]
  },
  {
   "cell_type": "code",
   "execution_count": 0,
   "metadata": {
    "colab": {},
    "colab_type": "code",
    "id": "wAHR_iPosZ2P"
   },
   "outputs": [],
   "source": [
    "# getting the eliments of the array\n",
    "print multi[0] # 1st row of the array\n",
    "print multi[1] # 2ns row of the array\n",
    "print \"1st element of the array \",multi[0][0]\n",
    "print \"last element of the array \",multi[-1][-1] #using negetive indexing \n",
    "\n"
   ]
  },
  {
   "cell_type": "code",
   "execution_count": null,
   "metadata": {},
   "outputs": [],
   "source": [
    "import numpy as np\n",
    "import time\n",
    "impo"
   ]
  },
  {
   "cell_type": "code",
   "execution_count": 0,
   "metadata": {
    "colab": {},
    "colab_type": "code",
    "id": "1Yb_i-UttWYp"
   },
   "outputs": [],
   "source": [
    "# Creating a random matrix \n",
    "r = np.random.randn(5,4)  # the mtrix is 5 by 4 matrix (row, column)\n",
    "print r"
   ]
  },
  {
   "cell_type": "code",
   "execution_count": 0,
   "metadata": {
    "colab": {},
    "colab_type": "code",
    "id": "rp41ZtNtoroA"
   },
   "outputs": [],
   "source": [
    "# Matplotlib is a great Library for ploting your data in a beutiful graph\n",
    "import matplotlib.pyplot as plt\n",
    "k = [1.2,3.4,6.3,7,10]\n",
    "plt.plot(k)  # Its ploting the list with plot() function \n",
    "plt.show() # without the show function you cannot see anything. "
   ]
  },
  {
   "cell_type": "code",
   "execution_count": 0,
   "metadata": {
    "colab": {},
    "colab_type": "code",
    "id": "pt9TAm-ZviKc"
   },
   "outputs": [],
   "source": [
    "# We can also plot points instead of a straigth line \n",
    "plt.plot(k,\"ro\")  # we can specify the shape & size also the 1st one r-Red,g-Gren,b-Blue . The 2nd letter defines the shape we can use ^ or - \n",
    "plt.show()"
   ]
  },
  {
   "cell_type": "code",
   "execution_count": 0,
   "metadata": {
    "colab": {},
    "colab_type": "code",
    "id": "kNfJv8kWkwqD"
   },
   "outputs": [],
   "source": [
    "import tensorflow as tf\n",
    "version = (tf.__version__)\n",
    "print \"Its in float => \" + version\n",
    "print \"The version is in string : \"+ str(version)"
   ]
  },
  {
   "cell_type": "code",
   "execution_count": 0,
   "metadata": {
    "colab": {},
    "colab_type": "code",
    "id": "PHnckUo4lghl"
   },
   "outputs": [],
   "source": []
  }
 ],
 "metadata": {
  "colab": {
   "collapsed_sections": [],
   "include_colab_link": true,
   "name": "basic_python.ipynb",
   "provenance": [],
   "version": "0.3.2"
  },
  "kernelspec": {
   "display_name": "Python 2",
   "language": "python",
   "name": "python2"
  },
  "language_info": {
   "codemirror_mode": {
    "name": "ipython",
    "version": 2
   },
   "file_extension": ".py",
   "mimetype": "text/x-python",
   "name": "python",
   "nbconvert_exporter": "python",
   "pygments_lexer": "ipython2",
   "version": "2.7.15rc1"
  }
 },
 "nbformat": 4,
 "nbformat_minor": 1
}
